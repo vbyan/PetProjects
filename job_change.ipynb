{
 "cells": [
  {
   "cell_type": "markdown",
   "metadata": {},
   "source": [
    "# HR Analytics: Job Change of Data Scientists"
   ]
  },
  {
   "cell_type": "markdown",
   "metadata": {},
   "source": [
    "A company which is active in Big Data and Data Science wants to hire data scientists among people who successfully pass some courses which conduct by the company. Many people signup for their training. Company wants to know which of these candidates are really wants to work for the company after training or looking for a new employment because it helps to reduce the cost and time as well as the quality of training or planning the courses and categorization of candidates. Information related to demographics, education, experience are in hands from candidates signup and enrollment.\n",
    "\n",
    "This dataset designed to understand the factors that lead a person to leave current job for HR researches too. By model(s) that uses the current credentials,demographics,experience data we will predict the probability of a candidate to look for a new job or will work for the company, as well as interpreting affected factors on employee decision."
   ]
  },
  {
   "cell_type": "markdown",
   "metadata": {},
   "source": [
    "## 1.Data Preprocessing"
   ]
  },
  {
   "cell_type": "markdown",
   "metadata": {},
   "source": [
    "##### Importing all necessary libraries"
   ]
  },
  {
   "cell_type": "code",
   "execution_count": 23,
   "metadata": {},
   "outputs": [],
   "source": [
    "import pandas as pd\n",
    "import numpy as np\n",
    "import matplotlib.pyplot as plt\n",
    "from pandas import DataFrame as D\n",
    "from pandas import Series as S\n",
    "import warnings\n",
    "warnings.filterwarnings('ignore')"
   ]
  },
  {
   "cell_type": "markdown",
   "metadata": {},
   "source": [
    "##### Path to the file"
   ]
  },
  {
   "cell_type": "code",
   "execution_count": 24,
   "metadata": {},
   "outputs": [
    {
     "name": "stdout",
     "output_type": "stream",
     "text": [
      "(bookmark:pfda) -> C:\\Users\\User\\Desktop\\Python for data analyses\n",
      "C:\\Users\\User\\Desktop\\Python for data analyses\n"
     ]
    }
   ],
   "source": [
    "%cd pfda"
   ]
  },
  {
   "cell_type": "markdown",
   "metadata": {},
   "source": [
    "##### Reading the file and seperating target value from the feautures"
   ]
  },
  {
   "cell_type": "code",
   "execution_count": 25,
   "metadata": {},
   "outputs": [
    {
     "data": {
      "text/html": [
       "<div>\n",
       "<style scoped>\n",
       "    .dataframe tbody tr th:only-of-type {\n",
       "        vertical-align: middle;\n",
       "    }\n",
       "\n",
       "    .dataframe tbody tr th {\n",
       "        vertical-align: top;\n",
       "    }\n",
       "\n",
       "    .dataframe thead th {\n",
       "        text-align: right;\n",
       "    }\n",
       "</style>\n",
       "<table border=\"1\" class=\"dataframe\">\n",
       "  <thead>\n",
       "    <tr style=\"text-align: right;\">\n",
       "      <th></th>\n",
       "      <th>enrollee_id</th>\n",
       "      <th>city</th>\n",
       "      <th>city_development_index</th>\n",
       "      <th>gender</th>\n",
       "      <th>relevent_experience</th>\n",
       "      <th>enrolled_university</th>\n",
       "      <th>education_level</th>\n",
       "      <th>major_discipline</th>\n",
       "      <th>experience</th>\n",
       "      <th>company_size</th>\n",
       "      <th>company_type</th>\n",
       "      <th>last_new_job</th>\n",
       "      <th>training_hours</th>\n",
       "    </tr>\n",
       "  </thead>\n",
       "  <tbody>\n",
       "    <tr>\n",
       "      <th>1</th>\n",
       "      <td>29725</td>\n",
       "      <td>city_40</td>\n",
       "      <td>0.776</td>\n",
       "      <td>Male</td>\n",
       "      <td>No relevent experience</td>\n",
       "      <td>no_enrollment</td>\n",
       "      <td>Graduate</td>\n",
       "      <td>STEM</td>\n",
       "      <td>15</td>\n",
       "      <td>50-99</td>\n",
       "      <td>Pvt Ltd</td>\n",
       "      <td>&gt;4</td>\n",
       "      <td>47</td>\n",
       "    </tr>\n",
       "    <tr>\n",
       "      <th>4</th>\n",
       "      <td>666</td>\n",
       "      <td>city_162</td>\n",
       "      <td>0.767</td>\n",
       "      <td>Male</td>\n",
       "      <td>Has relevent experience</td>\n",
       "      <td>no_enrollment</td>\n",
       "      <td>Masters</td>\n",
       "      <td>STEM</td>\n",
       "      <td>&gt;20</td>\n",
       "      <td>50-99</td>\n",
       "      <td>Funded Startup</td>\n",
       "      <td>4</td>\n",
       "      <td>8</td>\n",
       "    </tr>\n",
       "    <tr>\n",
       "      <th>7</th>\n",
       "      <td>402</td>\n",
       "      <td>city_46</td>\n",
       "      <td>0.762</td>\n",
       "      <td>Male</td>\n",
       "      <td>Has relevent experience</td>\n",
       "      <td>no_enrollment</td>\n",
       "      <td>Graduate</td>\n",
       "      <td>STEM</td>\n",
       "      <td>13</td>\n",
       "      <td>&lt;10</td>\n",
       "      <td>Pvt Ltd</td>\n",
       "      <td>&gt;4</td>\n",
       "      <td>18</td>\n",
       "    </tr>\n",
       "    <tr>\n",
       "      <th>8</th>\n",
       "      <td>27107</td>\n",
       "      <td>city_103</td>\n",
       "      <td>0.920</td>\n",
       "      <td>Male</td>\n",
       "      <td>Has relevent experience</td>\n",
       "      <td>no_enrollment</td>\n",
       "      <td>Graduate</td>\n",
       "      <td>STEM</td>\n",
       "      <td>7</td>\n",
       "      <td>50-99</td>\n",
       "      <td>Pvt Ltd</td>\n",
       "      <td>1</td>\n",
       "      <td>46</td>\n",
       "    </tr>\n",
       "    <tr>\n",
       "      <th>11</th>\n",
       "      <td>23853</td>\n",
       "      <td>city_103</td>\n",
       "      <td>0.920</td>\n",
       "      <td>Male</td>\n",
       "      <td>Has relevent experience</td>\n",
       "      <td>no_enrollment</td>\n",
       "      <td>Graduate</td>\n",
       "      <td>STEM</td>\n",
       "      <td>5</td>\n",
       "      <td>5000-9999</td>\n",
       "      <td>Pvt Ltd</td>\n",
       "      <td>1</td>\n",
       "      <td>108</td>\n",
       "    </tr>\n",
       "  </tbody>\n",
       "</table>\n",
       "</div>"
      ],
      "text/plain": [
       "    enrollee_id      city  city_development_index gender  \\\n",
       "1         29725   city_40                   0.776   Male   \n",
       "4           666  city_162                   0.767   Male   \n",
       "7           402   city_46                   0.762   Male   \n",
       "8         27107  city_103                   0.920   Male   \n",
       "11        23853  city_103                   0.920   Male   \n",
       "\n",
       "        relevent_experience enrolled_university education_level  \\\n",
       "1    No relevent experience       no_enrollment        Graduate   \n",
       "4   Has relevent experience       no_enrollment         Masters   \n",
       "7   Has relevent experience       no_enrollment        Graduate   \n",
       "8   Has relevent experience       no_enrollment        Graduate   \n",
       "11  Has relevent experience       no_enrollment        Graduate   \n",
       "\n",
       "   major_discipline experience company_size    company_type last_new_job  \\\n",
       "1              STEM         15        50-99         Pvt Ltd           >4   \n",
       "4              STEM        >20        50-99  Funded Startup            4   \n",
       "7              STEM         13          <10         Pvt Ltd           >4   \n",
       "8              STEM          7        50-99         Pvt Ltd            1   \n",
       "11             STEM          5    5000-9999         Pvt Ltd            1   \n",
       "\n",
       "    training_hours  \n",
       "1               47  \n",
       "4                8  \n",
       "7               18  \n",
       "8               46  \n",
       "11             108  "
      ]
     },
     "execution_count": 25,
     "metadata": {},
     "output_type": "execute_result"
    }
   ],
   "source": [
    "data=pd.read_csv('aug_train.csv',na_values='')\n",
    "data=data.dropna()\n",
    "target_class=data['target']\n",
    "data=data.drop(['target'],axis=1)\n",
    "data.head()"
   ]
  },
  {
   "cell_type": "markdown",
   "metadata": {},
   "source": [
    "##### Preparing data for classification without any special alterations"
   ]
  },
  {
   "cell_type": "code",
   "execution_count": 26,
   "metadata": {},
   "outputs": [],
   "source": [
    "from sklearn.preprocessing import StandardScaler\n",
    "non_preprocessed_data=StandardScaler().fit_transform(pd.get_dummies(data))"
   ]
  },
  {
   "cell_type": "markdown",
   "metadata": {},
   "source": [
    "##### Several modifications in the same data: Purpose is to compare modified model with its initial version"
   ]
  },
  {
   "cell_type": "code",
   "execution_count": 27,
   "metadata": {},
   "outputs": [
    {
     "data": {
      "text/html": [
       "<div>\n",
       "<style scoped>\n",
       "    .dataframe tbody tr th:only-of-type {\n",
       "        vertical-align: middle;\n",
       "    }\n",
       "\n",
       "    .dataframe tbody tr th {\n",
       "        vertical-align: top;\n",
       "    }\n",
       "\n",
       "    .dataframe thead th {\n",
       "        text-align: right;\n",
       "    }\n",
       "</style>\n",
       "<table border=\"1\" class=\"dataframe\">\n",
       "  <thead>\n",
       "    <tr style=\"text-align: right;\">\n",
       "      <th></th>\n",
       "      <th>enrollee_id</th>\n",
       "      <th>city</th>\n",
       "      <th>city_development_index</th>\n",
       "      <th>gender</th>\n",
       "      <th>relevent_experience</th>\n",
       "      <th>enrolled_university</th>\n",
       "      <th>education_level</th>\n",
       "      <th>major_discipline</th>\n",
       "      <th>experience</th>\n",
       "      <th>company_size</th>\n",
       "      <th>company_type</th>\n",
       "      <th>last_new_job</th>\n",
       "      <th>training_hours</th>\n",
       "    </tr>\n",
       "  </thead>\n",
       "  <tbody>\n",
       "    <tr>\n",
       "      <th>1</th>\n",
       "      <td>29725</td>\n",
       "      <td>city_40</td>\n",
       "      <td>0.776</td>\n",
       "      <td>Male</td>\n",
       "      <td>No relevent experience</td>\n",
       "      <td>no_enrollment</td>\n",
       "      <td>Graduate</td>\n",
       "      <td>STEM</td>\n",
       "      <td>[10.0, 20.0)</td>\n",
       "      <td>50-99</td>\n",
       "      <td>Pvt Ltd</td>\n",
       "      <td>[4.0, inf)</td>\n",
       "      <td>47</td>\n",
       "    </tr>\n",
       "    <tr>\n",
       "      <th>4</th>\n",
       "      <td>666</td>\n",
       "      <td>city_162</td>\n",
       "      <td>0.767</td>\n",
       "      <td>Male</td>\n",
       "      <td>Has relevent experience</td>\n",
       "      <td>no_enrollment</td>\n",
       "      <td>Masters</td>\n",
       "      <td>STEM</td>\n",
       "      <td>[20.0, inf)</td>\n",
       "      <td>50-99</td>\n",
       "      <td>Funded Startup</td>\n",
       "      <td>[4.0, inf)</td>\n",
       "      <td>8</td>\n",
       "    </tr>\n",
       "    <tr>\n",
       "      <th>7</th>\n",
       "      <td>402</td>\n",
       "      <td>city_46</td>\n",
       "      <td>0.762</td>\n",
       "      <td>Male</td>\n",
       "      <td>Has relevent experience</td>\n",
       "      <td>no_enrollment</td>\n",
       "      <td>Graduate</td>\n",
       "      <td>STEM</td>\n",
       "      <td>[10.0, 20.0)</td>\n",
       "      <td>&lt;10</td>\n",
       "      <td>Pvt Ltd</td>\n",
       "      <td>[4.0, inf)</td>\n",
       "      <td>18</td>\n",
       "    </tr>\n",
       "    <tr>\n",
       "      <th>8</th>\n",
       "      <td>27107</td>\n",
       "      <td>city_103</td>\n",
       "      <td>0.920</td>\n",
       "      <td>Male</td>\n",
       "      <td>Has relevent experience</td>\n",
       "      <td>no_enrollment</td>\n",
       "      <td>Graduate</td>\n",
       "      <td>STEM</td>\n",
       "      <td>[5.0, 10.0)</td>\n",
       "      <td>50-99</td>\n",
       "      <td>Pvt Ltd</td>\n",
       "      <td>[1.0, 4.0)</td>\n",
       "      <td>46</td>\n",
       "    </tr>\n",
       "    <tr>\n",
       "      <th>11</th>\n",
       "      <td>23853</td>\n",
       "      <td>city_103</td>\n",
       "      <td>0.920</td>\n",
       "      <td>Male</td>\n",
       "      <td>Has relevent experience</td>\n",
       "      <td>no_enrollment</td>\n",
       "      <td>Graduate</td>\n",
       "      <td>STEM</td>\n",
       "      <td>[5.0, 10.0)</td>\n",
       "      <td>5000-9999</td>\n",
       "      <td>Pvt Ltd</td>\n",
       "      <td>[1.0, 4.0)</td>\n",
       "      <td>108</td>\n",
       "    </tr>\n",
       "  </tbody>\n",
       "</table>\n",
       "</div>"
      ],
      "text/plain": [
       "    enrollee_id      city  city_development_index gender  \\\n",
       "1         29725   city_40                   0.776   Male   \n",
       "4           666  city_162                   0.767   Male   \n",
       "7           402   city_46                   0.762   Male   \n",
       "8         27107  city_103                   0.920   Male   \n",
       "11        23853  city_103                   0.920   Male   \n",
       "\n",
       "        relevent_experience enrolled_university education_level  \\\n",
       "1    No relevent experience       no_enrollment        Graduate   \n",
       "4   Has relevent experience       no_enrollment         Masters   \n",
       "7   Has relevent experience       no_enrollment        Graduate   \n",
       "8   Has relevent experience       no_enrollment        Graduate   \n",
       "11  Has relevent experience       no_enrollment        Graduate   \n",
       "\n",
       "   major_discipline    experience company_size    company_type last_new_job  \\\n",
       "1              STEM  [10.0, 20.0)        50-99         Pvt Ltd   [4.0, inf)   \n",
       "4              STEM   [20.0, inf)        50-99  Funded Startup   [4.0, inf)   \n",
       "7              STEM  [10.0, 20.0)          <10         Pvt Ltd   [4.0, inf)   \n",
       "8              STEM   [5.0, 10.0)        50-99         Pvt Ltd   [1.0, 4.0)   \n",
       "11             STEM   [5.0, 10.0)    5000-9999         Pvt Ltd   [1.0, 4.0)   \n",
       "\n",
       "    training_hours  \n",
       "1               47  \n",
       "4                8  \n",
       "7               18  \n",
       "8               46  \n",
       "11             108  "
      ]
     },
     "execution_count": 27,
     "metadata": {},
     "output_type": "execute_result"
    }
   ],
   "source": [
    "data.experience=pd.cut(data.experience.replace({'>20':21,'<1':0}).astype('float64'),[0,1,5,10,20,np.inf],right=False)\n",
    "data['last_new_job']=pd.cut(data['last_new_job'].replace({'never':0,'>4':5}).astype('float64'),[0,1,4,np.inf],right=False)\n",
    "data.head()"
   ]
  },
  {
   "cell_type": "markdown",
   "metadata": {},
   "source": [
    "##### Class weights in target column: Purpose is to set this ratio in Machine Learning Algorithm"
   ]
  },
  {
   "cell_type": "code",
   "execution_count": 28,
   "metadata": {},
   "outputs": [
    {
     "data": {
      "text/plain": [
       "0.0    7472\n",
       "1.0    1483\n",
       "Name: target, dtype: int64"
      ]
     },
     "execution_count": 28,
     "metadata": {},
     "output_type": "execute_result"
    }
   ],
   "source": [
    "target_class.value_counts()"
   ]
  },
  {
   "cell_type": "markdown",
   "metadata": {},
   "source": [
    "##### Preparing Train and Test datasets of non_preprocessed data"
   ]
  },
  {
   "cell_type": "code",
   "execution_count": 29,
   "metadata": {},
   "outputs": [],
   "source": [
    "from sklearn.model_selection import train_test_split\n",
    "x_train0,x_test0,y_train0,y_test0=train_test_split(non_preprocessed_data,target_class,random_state=42,test_size=0.2)"
   ]
  },
  {
   "cell_type": "markdown",
   "metadata": {},
   "source": [
    "##### Importing all necessary metrics"
   ]
  },
  {
   "cell_type": "code",
   "execution_count": 30,
   "metadata": {},
   "outputs": [],
   "source": [
    "from sklearn.metrics import roc_curve,roc_auc_score,f1_score\n",
    "from sklearn.metrics import accuracy_score as acc_score"
   ]
  },
  {
   "cell_type": "markdown",
   "metadata": {},
   "source": [
    "## 2.Building and comparing models in terms of preprocessing"
   ]
  },
  {
   "cell_type": "markdown",
   "metadata": {},
   "source": [
    "##### Training and evaluating non_preprocessed model (model0) with XGBClassifier: \n",
    "Parameters have been picked in terms of best quality of the model"
   ]
  },
  {
   "cell_type": "code",
   "execution_count": 31,
   "metadata": {},
   "outputs": [
    {
     "name": "stdout",
     "output_type": "stream",
     "text": [
      "AUC score:  0.7443556774132553\n"
     ]
    }
   ],
   "source": [
    "import xgboost as xgb\n",
    "model0 = xgb.XGBClassifier(objective ='binary:logistic', colsample_bytree=0.3, learning_rate = 0.05,\n",
    "                max_depth=30, alpha=500,gamma=0.05, min_child_weight=3, n_estimators = 200, seed=42,scale_pos_weight=5,verbosity=0)\n",
    "model0.fit(x_train0,y_train0)\n",
    "print('AUC score: ',roc_auc_score(y_test0,S(model0.predict_proba(x_test0)[:,1])))"
   ]
  },
  {
   "cell_type": "markdown",
   "metadata": {},
   "source": [
    "##### Evaluating model with accuracy"
   ]
  },
  {
   "cell_type": "code",
   "execution_count": 32,
   "metadata": {},
   "outputs": [
    {
     "data": {
      "text/plain": [
       "Train_acc    0.861809\n",
       "Test_acc     0.856505\n",
       "dtype: float64"
      ]
     },
     "execution_count": 32,
     "metadata": {},
     "output_type": "execute_result"
    }
   ],
   "source": [
    "S([acc_score(y_train0,model0.predict(x_train0))]+[acc_score(y_test0,model0.predict(x_test0))],index=['Train_acc','Test_acc'])"
   ]
  },
  {
   "cell_type": "markdown",
   "metadata": {},
   "source": [
    "It's obvious that model is trained pretty well and there is nothing about underfitting or overfitting here, but however the best value of AUC score is 0.74. Simply put this model can't be used"
   ]
  },
  {
   "cell_type": "markdown",
   "metadata": {},
   "source": [
    "-------------------------------------------------------------------------------------------------------------------------------"
   ]
  },
  {
   "cell_type": "markdown",
   "metadata": {},
   "source": [
    "##### Building and evaluating the preprocessed model"
   ]
  },
  {
   "cell_type": "code",
   "execution_count": 33,
   "metadata": {},
   "outputs": [],
   "source": [
    "preprocessed_data = StandardScaler().fit_transform(pd.get_dummies(data))"
   ]
  },
  {
   "cell_type": "code",
   "execution_count": 34,
   "metadata": {},
   "outputs": [
    {
     "data": {
      "text/plain": [
       "0.0    5978\n",
       "1.0    1186\n",
       "Name: target, dtype: int64"
      ]
     },
     "execution_count": 34,
     "metadata": {},
     "output_type": "execute_result"
    }
   ],
   "source": [
    "from sklearn.model_selection import StratifiedShuffleSplit as sss  # This helps to split the dataset in two parts retaining initial ratio                                  \n",
    "split=sss(n_splits=20,test_size=0.2,random_state=42)                                      \n",
    "for train_index, test_index in split.split(preprocessed_data,target_class):\n",
    "    x_train1 = D(preprocessed_data).loc[train_index]\n",
    "    x_test1 = D(preprocessed_data).loc[test_index] \n",
    "target_class1 = target_class\n",
    "target_class1.index = np.arange(0,target_class.shape[0])\n",
    "y_train1 = target_class1[train_index]\n",
    "y_test1 = target_class1[test_index]\n",
    "y_train1.value_counts() # Ratio here is the same as in the whole data(1:5)"
   ]
  },
  {
   "cell_type": "code",
   "execution_count": 35,
   "metadata": {},
   "outputs": [
    {
     "name": "stdout",
     "output_type": "stream",
     "text": [
      "AUC score:  0.8081596870084153\n"
     ]
    }
   ],
   "source": [
    "model1= xgb.XGBClassifier(objective ='binary:logistic', colsample_bytree=0.3, learning_rate = 0.05,\n",
    "                max_depth=30, alpha=4,gamma=0.05,min_child_weight=3, n_estimators = 200, seed=42,scale_pos_weight=5,verbosity=0)\n",
    "model1.fit(x_train1,y_train1)\n",
    "print('AUC score: ',roc_auc_score(y_test1,S(model1.predict_proba(x_test1)[:,1])))"
   ]
  },
  {
   "cell_type": "markdown",
   "metadata": {},
   "source": [
    "Now it's obvious that preprocessed dataset is way more accurate, than the non_preprocessed one. AUC score here is higher by nearly 10%"
   ]
  },
  {
   "cell_type": "markdown",
   "metadata": {},
   "source": [
    "------------------------------------------------------------------------------------------------------------------------------"
   ]
  },
  {
   "cell_type": "markdown",
   "metadata": {},
   "source": [
    "##### Evaluation with accuracy"
   ]
  },
  {
   "cell_type": "code",
   "execution_count": 36,
   "metadata": {},
   "outputs": [
    {
     "data": {
      "text/plain": [
       "Train_acc    0.927973\n",
       "Test_acc     0.860972\n",
       "dtype: float64"
      ]
     },
     "execution_count": 36,
     "metadata": {},
     "output_type": "execute_result"
    }
   ],
   "source": [
    "S([acc_score(y_train1,model1.predict(x_train1))]+[acc_score(y_test1,model1.predict(x_test1))],index=['Train_acc','Test_acc'])"
   ]
  },
  {
   "cell_type": "markdown",
   "metadata": {},
   "source": [
    "We can see that accuracy is roughly the same as in previous model but the model itself is far more stable"
   ]
  },
  {
   "cell_type": "markdown",
   "metadata": {},
   "source": [
    "----------------------------------------------------------------------------------------------------------------------------"
   ]
  },
  {
   "cell_type": "markdown",
   "metadata": {},
   "source": [
    "##### Plotting ROC curves of above-mentioned models"
   ]
  },
  {
   "cell_type": "code",
   "execution_count": 37,
   "metadata": {},
   "outputs": [],
   "source": [
    "s0=S(model0.predict_proba(x_test0)[:,1])\n",
    "s1=S(model1.predict_proba(x_test1)[:,1])\n",
    "fpr0, tpr0, thresholds0 = roc_curve(y_test0,s0)\n",
    "fpr1, tpr1, thresholds1 = roc_curve(y_test1,s1)"
   ]
  },
  {
   "cell_type": "code",
   "execution_count": 38,
   "metadata": {},
   "outputs": [
    {
     "data": {
      "text/plain": [
       "Text(0.5, 1.0, 'ROC curves in terms of preprocesing')"
      ]
     },
     "execution_count": 38,
     "metadata": {},
     "output_type": "execute_result"
    },
    {
     "data": {
      "image/png": "[encoded data removed]",
      "text/plain": [
       "<Figure size 1080x504 with 1 Axes>"
      ]
     },
     "metadata": {
      "needs_background": "light"
     },
     "output_type": "display_data"
    }
   ],
   "source": [
    "plt.figure(figsize=(15,7))\n",
    "plt.plot([0,1], [0,1], linestyle='--')\n",
    "plt.plot(fpr0, tpr0, marker='.', label='Model 0',c='r',alpha=0.6)\n",
    "plt.plot(fpr1, tpr1, marker='.', label='Model 1',c='g',alpha=0.6)\n",
    "plt.legend(borderpad=1,fontsize=14,loc='best',edgecolor='k')\n",
    "plt.text(x=0.2,y=0.76,s='AUC score = 0.81',rotation=15,fontsize=14,fontstyle='italic')\n",
    "plt.text(x=0.4,y=0.65,s='AUC score = 0.74',rotation=16,fontsize=14,fontstyle='italic')\n",
    "plt.title('ROC curves in terms of preprocesing',fontsize=15,pad=20,fontstyle='italic')"
   ]
  },
  {
   "cell_type": "markdown",
   "metadata": {},
   "source": [
    "Thus we ascertained that it'll be prudent to move forward with the second model, because it's performance is much better"
   ]
  },
  {
   "cell_type": "markdown",
   "metadata": {},
   "source": [
    "------------------------------------------------------------------------------------------------------------------------------"
   ]
  },
  {
   "cell_type": "markdown",
   "metadata": {},
   "source": [
    "##### The most important features"
   ]
  },
  {
   "cell_type": "code",
   "execution_count": 39,
   "metadata": {},
   "outputs": [
    {
     "data": {
      "text/plain": [
       "city_city_21              0.290509\n",
       "city_city_11              0.045854\n",
       "city_development_index    0.034168\n",
       "city_city_74              0.029197\n",
       "city_city_78              0.021698\n",
       "city_city_101             0.021533\n",
       "city_city_145             0.018631\n",
       "city_city_128             0.016270\n",
       "city_city_103             0.015548\n",
       "city_city_105             0.014475\n",
       "dtype: float32"
      ]
     },
     "execution_count": 39,
     "metadata": {},
     "output_type": "execute_result"
    }
   ],
   "source": [
    "S(model1.feature_importances_,index=pd.get_dummies(data).columns).sort_values(ascending=False)[:10]"
   ]
  },
  {
   "cell_type": "code",
   "execution_count": 40,
   "metadata": {},
   "outputs": [
    {
     "data": {
      "text/plain": [
       "0.6753224"
      ]
     },
     "execution_count": 40,
     "metadata": {},
     "output_type": "execute_result"
    }
   ],
   "source": [
    "S(model1.feature_importances_,index=pd.get_dummies(data).columns).sort_values(ascending=False)[\n",
    "                                                             pd.get_dummies(data).columns.str.contains('city')].sum()"
   ]
  },
  {
   "cell_type": "markdown",
   "metadata": {},
   "source": [
    "These numbers represent the importances of the features. For example 29% of all splittings were performed using the feature 'City_21'. And on the whole we can easily single out 2 most important features covering about 68% of all the splittings. These features are 'City' and 'City developement index'.So we can infer, that the main factor which have impact on the worker's decision about staying or leaving is the location of the company."
   ]
  },
  {
   "cell_type": "markdown",
   "metadata": {},
   "source": [
    "-------------------------------------------------------------------------------------------------------------------------------"
   ]
  },
  {
   "cell_type": "markdown",
   "metadata": {},
   "source": [
    "## 3. Building and comparing models in terms of the number of columns"
   ]
  },
  {
   "cell_type": "markdown",
   "metadata": {},
   "source": [
    "As we already ascertained, the most important feautures of the dataset are \"city\" and \"city_developement_index\". We can try to build a model using only 2 these columns. I suppose the result will only slightly differ compared with the last model."
   ]
  },
  {
   "cell_type": "code",
   "execution_count": 41,
   "metadata": {},
   "outputs": [
    {
     "data": {
      "text/html": [
       "<div>\n",
       "<style scoped>\n",
       "    .dataframe tbody tr th:only-of-type {\n",
       "        vertical-align: middle;\n",
       "    }\n",
       "\n",
       "    .dataframe tbody tr th {\n",
       "        vertical-align: top;\n",
       "    }\n",
       "\n",
       "    .dataframe thead th {\n",
       "        text-align: right;\n",
       "    }\n",
       "</style>\n",
       "<table border=\"1\" class=\"dataframe\">\n",
       "  <thead>\n",
       "    <tr style=\"text-align: right;\">\n",
       "      <th></th>\n",
       "      <th>enrollee_id</th>\n",
       "      <th>city</th>\n",
       "      <th>city_development_index</th>\n",
       "      <th>gender</th>\n",
       "      <th>relevent_experience</th>\n",
       "      <th>enrolled_university</th>\n",
       "      <th>education_level</th>\n",
       "      <th>major_discipline</th>\n",
       "      <th>experience</th>\n",
       "      <th>company_size</th>\n",
       "      <th>company_type</th>\n",
       "      <th>last_new_job</th>\n",
       "      <th>training_hours</th>\n",
       "    </tr>\n",
       "  </thead>\n",
       "  <tbody>\n",
       "    <tr>\n",
       "      <th>1</th>\n",
       "      <td>29725</td>\n",
       "      <td>city_40</td>\n",
       "      <td>0.776</td>\n",
       "      <td>Male</td>\n",
       "      <td>No relevent experience</td>\n",
       "      <td>no_enrollment</td>\n",
       "      <td>Graduate</td>\n",
       "      <td>STEM</td>\n",
       "      <td>[10.0, 20.0)</td>\n",
       "      <td>50-99</td>\n",
       "      <td>Pvt Ltd</td>\n",
       "      <td>[4.0, inf)</td>\n",
       "      <td>47</td>\n",
       "    </tr>\n",
       "    <tr>\n",
       "      <th>4</th>\n",
       "      <td>666</td>\n",
       "      <td>city_162</td>\n",
       "      <td>0.767</td>\n",
       "      <td>Male</td>\n",
       "      <td>Has relevent experience</td>\n",
       "      <td>no_enrollment</td>\n",
       "      <td>Masters</td>\n",
       "      <td>STEM</td>\n",
       "      <td>[20.0, inf)</td>\n",
       "      <td>50-99</td>\n",
       "      <td>Funded Startup</td>\n",
       "      <td>[4.0, inf)</td>\n",
       "      <td>8</td>\n",
       "    </tr>\n",
       "    <tr>\n",
       "      <th>7</th>\n",
       "      <td>402</td>\n",
       "      <td>city_46</td>\n",
       "      <td>0.762</td>\n",
       "      <td>Male</td>\n",
       "      <td>Has relevent experience</td>\n",
       "      <td>no_enrollment</td>\n",
       "      <td>Graduate</td>\n",
       "      <td>STEM</td>\n",
       "      <td>[10.0, 20.0)</td>\n",
       "      <td>&lt;10</td>\n",
       "      <td>Pvt Ltd</td>\n",
       "      <td>[4.0, inf)</td>\n",
       "      <td>18</td>\n",
       "    </tr>\n",
       "    <tr>\n",
       "      <th>8</th>\n",
       "      <td>27107</td>\n",
       "      <td>city_103</td>\n",
       "      <td>0.920</td>\n",
       "      <td>Male</td>\n",
       "      <td>Has relevent experience</td>\n",
       "      <td>no_enrollment</td>\n",
       "      <td>Graduate</td>\n",
       "      <td>STEM</td>\n",
       "      <td>[5.0, 10.0)</td>\n",
       "      <td>50-99</td>\n",
       "      <td>Pvt Ltd</td>\n",
       "      <td>[1.0, 4.0)</td>\n",
       "      <td>46</td>\n",
       "    </tr>\n",
       "    <tr>\n",
       "      <th>11</th>\n",
       "      <td>23853</td>\n",
       "      <td>city_103</td>\n",
       "      <td>0.920</td>\n",
       "      <td>Male</td>\n",
       "      <td>Has relevent experience</td>\n",
       "      <td>no_enrollment</td>\n",
       "      <td>Graduate</td>\n",
       "      <td>STEM</td>\n",
       "      <td>[5.0, 10.0)</td>\n",
       "      <td>5000-9999</td>\n",
       "      <td>Pvt Ltd</td>\n",
       "      <td>[1.0, 4.0)</td>\n",
       "      <td>108</td>\n",
       "    </tr>\n",
       "  </tbody>\n",
       "</table>\n",
       "</div>"
      ],
      "text/plain": [
       "    enrollee_id      city  city_development_index gender  \\\n",
       "1         29725   city_40                   0.776   Male   \n",
       "4           666  city_162                   0.767   Male   \n",
       "7           402   city_46                   0.762   Male   \n",
       "8         27107  city_103                   0.920   Male   \n",
       "11        23853  city_103                   0.920   Male   \n",
       "\n",
       "        relevent_experience enrolled_university education_level  \\\n",
       "1    No relevent experience       no_enrollment        Graduate   \n",
       "4   Has relevent experience       no_enrollment         Masters   \n",
       "7   Has relevent experience       no_enrollment        Graduate   \n",
       "8   Has relevent experience       no_enrollment        Graduate   \n",
       "11  Has relevent experience       no_enrollment        Graduate   \n",
       "\n",
       "   major_discipline    experience company_size    company_type last_new_job  \\\n",
       "1              STEM  [10.0, 20.0)        50-99         Pvt Ltd   [4.0, inf)   \n",
       "4              STEM   [20.0, inf)        50-99  Funded Startup   [4.0, inf)   \n",
       "7              STEM  [10.0, 20.0)          <10         Pvt Ltd   [4.0, inf)   \n",
       "8              STEM   [5.0, 10.0)        50-99         Pvt Ltd   [1.0, 4.0)   \n",
       "11             STEM   [5.0, 10.0)    5000-9999         Pvt Ltd   [1.0, 4.0)   \n",
       "\n",
       "    training_hours  \n",
       "1               47  \n",
       "4                8  \n",
       "7               18  \n",
       "8               46  \n",
       "11             108  "
      ]
     },
     "execution_count": 41,
     "metadata": {},
     "output_type": "execute_result"
    }
   ],
   "source": [
    "data.head()"
   ]
  },
  {
   "cell_type": "markdown",
   "metadata": {},
   "source": [
    "##### Preparing features"
   ]
  },
  {
   "cell_type": "code",
   "execution_count": 42,
   "metadata": {},
   "outputs": [
    {
     "data": {
      "text/plain": [
       "(8955, 117)"
      ]
     },
     "execution_count": 42,
     "metadata": {},
     "output_type": "execute_result"
    }
   ],
   "source": [
    "cut_data=data.iloc[:,[1,2]]\n",
    "preprocessed_cut_data=StandardScaler().fit_transform(pd.get_dummies(cut_data))\n",
    "preprocessed_cut_data.shape    # Number of columns is 117 because we use dummy variables and 'city' column has 116 unique values"
   ]
  },
  {
   "cell_type": "markdown",
   "metadata": {},
   "source": [
    "##### Fulfiling train-test splitting and training the model"
   ]
  },
  {
   "cell_type": "code",
   "execution_count": 43,
   "metadata": {},
   "outputs": [
    {
     "data": {
      "text/plain": [
       "0.7957509048539838"
      ]
     },
     "execution_count": 43,
     "metadata": {},
     "output_type": "execute_result"
    }
   ],
   "source": [
    "split=sss(n_splits=20,test_size=0.2,random_state=42)                                      \n",
    "for train_index, test_index in split.split(preprocessed_cut_data,target_class):\n",
    "    x_train2 = D(preprocessed_cut_data).loc[train_index]\n",
    "    x_test2 = D(preprocessed_cut_data).loc[test_index] \n",
    "target_class2 = target_class\n",
    "target_class2.index = np.arange(0,target_class.shape[0])\n",
    "y_train2 = target_class2[train_index]\n",
    "y_test2 = target_class2[test_index]\n",
    "model2= xgb.XGBClassifier(objective ='binary:logistic', colsample_bytree=1, learning_rate = 0.02,\n",
    "                max_depth=5, alpha=0.01,gamma=0,min_child_weight=3, n_estimators = 400, seed=42,scale_pos_weight=5,verbosity=0)\n",
    "model2.fit(x_train2,y_train2)\n",
    "roc_auc_score(y_test2,S(model2.predict_proba(x_test2)[:,1]))"
   ]
  },
  {
   "cell_type": "markdown",
   "metadata": {},
   "source": [
    "As anticipated,the quality of this model is rougly the same, but its performence is slightly worse. However this fact indicates, that target value can't be fully described by current varibales, because there are only 2-3 factors that really have any impact on it. So on the one hand for further research we can collect only information about above features, neglecting the others. And on the other hand we can try to find out more versatile and diverse information that can help to improve accuracy."
   ]
  },
  {
   "cell_type": "code",
   "execution_count": 44,
   "metadata": {},
   "outputs": [
    {
     "data": {
      "text/plain": [
       "Train_acc    0.843663\n",
       "Test_acc     0.860972\n",
       "dtype: float64"
      ]
     },
     "execution_count": 44,
     "metadata": {},
     "output_type": "execute_result"
    }
   ],
   "source": [
    "S([acc_score(y_train2,model2.predict(x_train2))]+[acc_score(y_test2,model2.predict(x_test2))],index=['Train_acc','Test_acc'])"
   ]
  },
  {
   "cell_type": "markdown",
   "metadata": {},
   "source": [
    "Accuracy is also the same, and if we just use this model for our predictions, we won't lose too much"
   ]
  },
  {
   "cell_type": "markdown",
   "metadata": {},
   "source": [
    "---------------------------------------------------------------------------------------------------------------------------"
   ]
  },
  {
   "cell_type": "markdown",
   "metadata": {},
   "source": [
    "##### Plotting ROC curves"
   ]
  },
  {
   "cell_type": "code",
   "execution_count": 45,
   "metadata": {},
   "outputs": [
    {
     "data": {
      "text/plain": [
       "Text(0.5, 1.0, 'ROC curves in terms of the numbers of columns')"
      ]
     },
     "execution_count": 45,
     "metadata": {},
     "output_type": "execute_result"
    },
    {
     "data": {
      "image/png": "[encoded data removed]",
      "text/plain": [
       "<Figure size 1080x504 with 1 Axes>"
      ]
     },
     "metadata": {
      "needs_background": "light"
     },
     "output_type": "display_data"
    }
   ],
   "source": [
    "s2=S(model2.predict_proba(x_test2)[:,1])\n",
    "fpr2, tpr2, thresholds2 = roc_curve(y_test2,s2)\n",
    "plt.figure(figsize=(15,7))\n",
    "plt.plot([0,1], [0,1], linestyle='--')\n",
    "plt.plot(fpr1, tpr1, label='Model 1',c='g',alpha=0.5,lw=3)\n",
    "plt.plot(fpr2, tpr2, label='Model 2',c='y',alpha=0.5,lw=3)\n",
    "plt.legend(borderpad=1,fontsize=14,loc='best',edgecolor='k')\n",
    "plt.text(x=0.2,y=0.76,s='AUC score = 0.81',rotation=15,fontsize=14,fontstyle='italic')\n",
    "plt.text(x=0.6,y=0.785,s='AUC score = 0.8',rotation=13,fontsize=14,fontstyle='italic')\n",
    "plt.title('ROC curves in terms of the numbers of columns',fontsize=15,pad=20,fontstyle='italic')"
   ]
  },
  {
   "cell_type": "markdown",
   "metadata": {},
   "source": [
    "-----------------------------------------------------------------------------------------------------------------------------"
   ]
  },
  {
   "cell_type": "markdown",
   "metadata": {},
   "source": [
    "Sometimes, reduction of the number of non-informative variables may lead to an increase in quality. Let's try this reducing the number of our columns from 158 to 140, retaining the most informative ones"
   ]
  },
  {
   "cell_type": "markdown",
   "metadata": {},
   "source": [
    "##### Labels of 140 most important variables"
   ]
  },
  {
   "cell_type": "code",
   "execution_count": 46,
   "metadata": {},
   "outputs": [
    {
     "data": {
      "text/plain": [
       "array(['city_city_21', 'city_city_11', 'city_development_index',\n",
       "       'city_city_74', 'city_city_78', 'city_city_101', 'city_city_145',\n",
       "       'city_city_128', 'city_city_103', 'city_city_105'], dtype=object)"
      ]
     },
     "execution_count": 46,
     "metadata": {},
     "output_type": "execute_result"
    }
   ],
   "source": [
    "new_columns=S(model1.feature_importances_,index=pd.get_dummies(data).columns).sort_values(ascending=False)[:140].index.values\n",
    "new_columns[:10]"
   ]
  },
  {
   "cell_type": "markdown",
   "metadata": {},
   "source": [
    "##### Preparations"
   ]
  },
  {
   "cell_type": "code",
   "execution_count": 47,
   "metadata": {},
   "outputs": [],
   "source": [
    "cut_data1=pd.get_dummies(data).loc[:,new_columns]\n",
    "preprocessed_cut_data1=StandardScaler().fit_transform(cut_data1)\n",
    "split=sss(n_splits=20,test_size=0.2,random_state=42)                                      \n",
    "for train_index, test_index in split.split(preprocessed_cut_data1,target_class):\n",
    "    x_train3 = D(preprocessed_cut_data1).loc[train_index]\n",
    "    x_test3 = D(preprocessed_cut_data1).loc[test_index] \n",
    "target_class3 = target_class\n",
    "target_class3.index = np.arange(0,target_class.shape[0])\n",
    "y_train3 = target_class3[train_index]\n",
    "y_test3 = target_class3[test_index]"
   ]
  },
  {
   "cell_type": "markdown",
   "metadata": {},
   "source": [
    "##### Model training"
   ]
  },
  {
   "cell_type": "code",
   "execution_count": 48,
   "metadata": {},
   "outputs": [
    {
     "data": {
      "text/plain": [
       "0.811213428348636"
      ]
     },
     "execution_count": 48,
     "metadata": {},
     "output_type": "execute_result"
    }
   ],
   "source": [
    "model3= xgb.XGBClassifier(objective ='binary:logistic', colsample_bytree=0.1, learning_rate = 0.05,\n",
    "                max_depth=10, alpha=1,gamma=0.05,min_child_weight=3, n_estimators = 300, seed=42,scale_pos_weight=5,verbosity=0)\n",
    "model3.fit(x_train3,y_train3)\n",
    "roc_auc_score(y_test3,S(model3.predict_proba(x_test3)[:,1]))"
   ]
  },
  {
   "cell_type": "markdown",
   "metadata": {},
   "source": [
    "As we can see,the result is slightly better than in the case of 158 columns, but this is not a sufficient improvement to unequivoclly choose this model."
   ]
  },
  {
   "cell_type": "markdown",
   "metadata": {},
   "source": [
    "##### Accuracy"
   ]
  },
  {
   "cell_type": "code",
   "execution_count": 49,
   "metadata": {},
   "outputs": [
    {
     "data": {
      "text/plain": [
       "Train_acc    0.882607\n",
       "Test_acc     0.855946\n",
       "dtype: float64"
      ]
     },
     "execution_count": 49,
     "metadata": {},
     "output_type": "execute_result"
    }
   ],
   "source": [
    "S([acc_score(y_train3,model3.predict(x_train3))]+[acc_score(y_test3,model3.predict(x_test3))],index=['Train_acc','Test_acc'])"
   ]
  },
  {
   "cell_type": "markdown",
   "metadata": {},
   "source": [
    "This result is far more better than in model1, because AUC score here reaches its maximum without overfitting, but simultaneously it preserves roughly the same accuracy on the test-set. So the reduction of 18 columns is a good idea and we'll use it in our subsequent research."
   ]
  },
  {
   "cell_type": "markdown",
   "metadata": {},
   "source": [
    "-------------------------------------------------------------------------------------------------------------------------------"
   ]
  },
  {
   "cell_type": "markdown",
   "metadata": {},
   "source": [
    "## 4. Other  algorithms in use"
   ]
  },
  {
   "cell_type": "markdown",
   "metadata": {},
   "source": [
    "##### Getting rid of class_weight problem"
   ]
  },
  {
   "cell_type": "markdown",
   "metadata": {},
   "source": [
    "As some of our subsequent models don't have class_weight parameter, it seems reasonable to settle class-disbalance manually. We'll do it simply adding duplicates to the existing training set."
   ]
  },
  {
   "cell_type": "code",
   "execution_count": 50,
   "metadata": {},
   "outputs": [
    {
     "data": {
      "text/plain": [
       "0.0    5978\n",
       "1.0    5930\n",
       "Name: target, dtype: int64"
      ]
     },
     "execution_count": 50,
     "metadata": {},
     "output_type": "execute_result"
    }
   ],
   "source": [
    "ones_predictors=D(x_train3[y_train3==1])\n",
    "ones_targets=S(y_train3[y_train3==1])\n",
    "balanced_data=D(x_train3)\n",
    "balanced_target=S(y_train3)\n",
    "proportions=target_class.value_counts().sort_index(ascending=False)\n",
    "for i in range(0,int(round(proportions[0]/proportions[1],0))-1):\n",
    "    balanced_data=pd.concat([balanced_data,ones_predictors],axis=0,ignore_index=True)\n",
    "    balanced_target=pd.concat([balanced_target,ones_targets],axis=0,ignore_index=True)\n",
    "balanced_target.value_counts()"
   ]
  },
  {
   "cell_type": "markdown",
   "metadata": {},
   "source": [
    "#### Random Forest Classifier \n",
    "Here we will use it via CalibratedClassifier to get its predictions as probabilities. It will help to get the most accurate value of AUC score. We also will use dataset with reduced columns that we get via feature importances"
   ]
  },
  {
   "cell_type": "code",
   "execution_count": 51,
   "metadata": {},
   "outputs": [
    {
     "name": "stdout",
     "output_type": "stream",
     "text": [
      "AUC Score:  0.7957013238137736\n"
     ]
    }
   ],
   "source": [
    "from sklearn.ensemble import RandomForestClassifier as rfc\n",
    "from sklearn.calibration import CalibratedClassifierCV\n",
    "model_rfc = rfc(n_estimators=170,random_state=42,max_depth=14,min_samples_split=10)\n",
    "calibrator_rfc = CalibratedClassifierCV(model_rfc,cv=2,method='sigmoid')\n",
    "calibrator_rfc.fit(balanced_data,balanced_target)\n",
    "s_rfc = S(calibrator_rfc.predict_proba(x_test3)[:,1])\n",
    "fpr_rfc,tpr_rfc,thresholds_rfc = roc_curve(y_test3,s_rfc)\n",
    "print('AUC Score: ',roc_auc_score(y_test3,s_rfc))"
   ]
  },
  {
   "cell_type": "markdown",
   "metadata": {},
   "source": [
    "It was evident, that AUC score here would be worse than in XGB. However this is not a bad model to use. Moreover we will use this in Stacking and Voting Classifiers, becuase I suppose there can be certain difference between the results of XGB and RF."
   ]
  },
  {
   "cell_type": "markdown",
   "metadata": {},
   "source": [
    "------------------------------------------------------------------------------------------------------------------------------"
   ]
  },
  {
   "cell_type": "code",
   "execution_count": 52,
   "metadata": {},
   "outputs": [
    {
     "data": {
      "text/plain": [
       "Train_acc    0.879397\n",
       "Test_acc     0.862088\n",
       "dtype: float64"
      ]
     },
     "execution_count": 52,
     "metadata": {},
     "output_type": "execute_result"
    }
   ],
   "source": [
    "S([acc_score(y_train3,calibrator_rfc.predict(x_train3))]+[acc_score(y_test3,calibrator_rfc.predict(x_test3))],index=['Train_acc','Test_acc'])"
   ]
  },
  {
   "cell_type": "markdown",
   "metadata": {},
   "source": [
    "Accuracy score is slightly better here, but we should keep in mind that our classes are very imbalanced and high accuracy on  test-set may  indicate that the model neglects positive targets training and making predictions relying only on negatives. We use accuracy scores here mostly to prevent overfitting and pick good parameters faster. "
   ]
  },
  {
   "cell_type": "markdown",
   "metadata": {},
   "source": [
    "--------------------------------------------------------------------------------------------------------------------------"
   ]
  },
  {
   "cell_type": "markdown",
   "metadata": {},
   "source": [
    "#### Gradient Boosting Machine"
   ]
  },
  {
   "cell_type": "code",
   "execution_count": 53,
   "metadata": {},
   "outputs": [
    {
     "name": "stdout",
     "output_type": "stream",
     "text": [
      "AUC Score:  0.792734349293921\n"
     ]
    }
   ],
   "source": [
    "from sklearn.ensemble import GradientBoostingClassifier as gbc\n",
    "model_gbc = gbc(n_estimators=60,random_state=42,max_depth=8,min_samples_split=10,learning_rate=0.05)\n",
    "calibrator_gbc = CalibratedClassifierCV(model_gbc,cv=2,method='sigmoid')\n",
    "calibrator_gbc.fit(balanced_data,balanced_target)\n",
    "calibrator_gbc.predict_proba(x_test3)\n",
    "s_gbc = S(calibrator_gbc.predict_proba(x_test3)[:,1])\n",
    "fpr_gbc,tpr_gbc,thresholds_gbc = roc_curve(y_test3,s_gbc)\n",
    "print('AUC Score: ',roc_auc_score(y_test3,s_gbc))"
   ]
  },
  {
   "cell_type": "code",
   "execution_count": 54,
   "metadata": {},
   "outputs": [
    {
     "data": {
      "text/plain": [
       "Train_acc    0.884283\n",
       "Test_acc     0.850921\n",
       "dtype: float64"
      ]
     },
     "execution_count": 54,
     "metadata": {},
     "output_type": "execute_result"
    }
   ],
   "source": [
    "S([acc_score(y_train3,calibrator_gbc.predict(x_train3))]+[acc_score(y_test3,calibrator_gbc.predict(x_test3))],index=['Train_acc','Test_acc'])"
   ]
  },
  {
   "cell_type": "markdown",
   "metadata": {},
   "source": [
    "Result is give or take the same as in the case of Random Forest, but still worse than XBG"
   ]
  },
  {
   "cell_type": "markdown",
   "metadata": {},
   "source": [
    "------------------------------------------------------------------------------------------------------------------------------"
   ]
  },
  {
   "cell_type": "markdown",
   "metadata": {},
   "source": [
    "##### Neural networks\n",
    "We will use DL model here, which can't compile with sklearn algorithms under natural circumstances, but with several tools we can make it a sklearn classifier and use with the others in Stacking or Voting classifiers."
   ]
  },
  {
   "cell_type": "code",
   "execution_count": 55,
   "metadata": {},
   "outputs": [
    {
     "name": "stdout",
     "output_type": "stream",
     "text": [
      "Epoch 1/3\n",
      "335/335 - 4s - loss: 0.6209 - accuracy: 0.7258 - val_loss: 0.6389 - val_accuracy: 0.5768\n",
      "Epoch 2/3\n",
      "335/335 - 1s - loss: 0.5488 - accuracy: 0.7544 - val_loss: 0.6459 - val_accuracy: 0.5802\n",
      "Epoch 3/3\n",
      "335/335 - 0s - loss: 0.5420 - accuracy: 0.7580 - val_loss: 0.6481 - val_accuracy: 0.5928\n"
     ]
    }
   ],
   "source": [
    "import keras\n",
    "from keras.models import Sequential\n",
    "from keras.layers import Dense\n",
    "import tensorflow as tf\n",
    "tf.random.set_seed(12345)\n",
    "init1=keras.initializers.TruncatedNormal(mean=0,stddev=0.05) # Setting initialization parameters\n",
    "init2=keras.initializers.Constant(0)\n",
    "reg1=keras.regularizers.l1(0.0005)\n",
    "reg2=keras.regularizers.l1(0)\n",
    "model_nn=Sequential()\n",
    "model_nn.add(Dense(10,input_dim=140,activation='relu',kernel_initializer=init1,bias_initializer=init2,kernel_regularizer=reg1,bias_regularizer=reg2))\n",
    "model_nn.add(Dense(1,activation='sigmoid',kernel_initializer=init1,bias_initializer=init2,kernel_regularizer=reg1,bias_regularizer=reg2))\n",
    "model_nn.compile(loss='binary_crossentropy',optimizer='adam',metrics=['accuracy'])\n",
    "history=model_nn.fit(balanced_data.values,balanced_target.values,epochs=3,validation_split=0.1,verbose=2)"
   ]
  },
  {
   "cell_type": "code",
   "execution_count": 56,
   "metadata": {},
   "outputs": [
    {
     "name": "stdout",
     "output_type": "stream",
     "text": [
      "AUC Score:  0.796665900414227\n"
     ]
    }
   ],
   "source": [
    "print('AUC Score: ',roc_auc_score(y_test3,S(model_nn.predict_proba(x_test3)[:,0])))"
   ]
  },
  {
   "cell_type": "code",
   "execution_count": 57,
   "metadata": {},
   "outputs": [
    {
     "name": "stdout",
     "output_type": "stream",
     "text": [
      "224/224 [==============================] - 1s 2ms/step - loss: 0.4765 - accuracy: 0.8523\n",
      "56/56 [==============================] - 0s 2ms/step - loss: 0.4753 - accuracy: 0.8582\n"
     ]
    },
    {
     "data": {
      "text/plain": [
       "Train_acc    0.852317\n",
       "Test_acc     0.858180\n",
       "dtype: float64"
      ]
     },
     "execution_count": 57,
     "metadata": {},
     "output_type": "execute_result"
    }
   ],
   "source": [
    "S([model_nn.evaluate(x_train3,y_train3)[1]]+[model_nn.evaluate(x_test3,y_test3)[1]],index=['Train_acc','Test_acc'])"
   ]
  },
  {
   "cell_type": "markdown",
   "metadata": {},
   "source": [
    "This is not the best result we can achieve with neural networks, but it doesn't matter, because we don't even need it. All we need is different predictions from different algorithms to use them in Stacking and Voting Classifiers"
   ]
  },
  {
   "cell_type": "markdown",
   "metadata": {},
   "source": [
    "-------------------------------------------------------------------------------------------------------------------------------"
   ]
  },
  {
   "cell_type": "markdown",
   "metadata": {},
   "source": [
    "##### Function of Neural Network model parameters\n",
    "We need this to train KerasClassifier and virtually make the neural network a sklearn classificator"
   ]
  },
  {
   "cell_type": "code",
   "execution_count": 58,
   "metadata": {},
   "outputs": [],
   "source": [
    "def get_model():\n",
    "    tf.random.set_seed(12345)\n",
    "    model=Sequential()\n",
    "    model.add(Dense(10,input_dim=140,activation='relu',kernel_initializer=init1,bias_initializer=init2,kernel_regularizer=reg1,bias_regularizer=reg2))\n",
    "    model.add(Dense(1,activation='sigmoid',kernel_initializer=init1,bias_initializer=init2,kernel_regularizer=reg1,bias_regularizer=reg2))\n",
    "    model.compile(loss='binary_crossentropy',optimizer='adam',metrics=['accuracy'])\n",
    "    return model"
   ]
  },
  {
   "cell_type": "markdown",
   "metadata": {},
   "source": [
    "##### Training Keras Classifier based on our recent model_nn"
   ]
  },
  {
   "cell_type": "code",
   "execution_count": 59,
   "metadata": {},
   "outputs": [
    {
     "data": {
      "text/plain": [
       "<tensorflow.python.keras.callbacks.History at 0x1b8da5f7a60>"
      ]
     },
     "execution_count": 59,
     "metadata": {},
     "output_type": "execute_result"
    }
   ],
   "source": [
    "from keras.wrappers.scikit_learn import KerasClassifier as kc\n",
    "model_kc = kc(build_fn=get_model,epochs=3,validation_split=0.1,verbose=0)\n",
    "model_kc.estimator_type=\"classifier\"\n",
    "model_kc.fit(balanced_data.values,balanced_target.values)"
   ]
  },
  {
   "cell_type": "code",
   "execution_count": 60,
   "metadata": {},
   "outputs": [
    {
     "name": "stdout",
     "output_type": "stream",
     "text": [
      "AUC Score:  0.796665900414227\n"
     ]
    }
   ],
   "source": [
    "print('AUC Score: ',roc_auc_score(y_test3,S(model_kc.predict_proba(x_test3)[:,1])))"
   ]
  },
  {
   "cell_type": "code",
   "execution_count": 61,
   "metadata": {},
   "outputs": [
    {
     "data": {
      "text/plain": [
       "Train_acc    0.852317\n",
       "Test_acc     0.858180\n",
       "dtype: float64"
      ]
     },
     "execution_count": 61,
     "metadata": {},
     "output_type": "execute_result"
    }
   ],
   "source": [
    "S([acc_score(y_train3,model_kc.predict(x_train3))]+[acc_score(y_test3,model_kc.predict(x_test3))],index=['Train_acc','Test_acc'])"
   ]
  },
  {
   "cell_type": "markdown",
   "metadata": {},
   "source": [
    "Accuracy and AUC score are the same"
   ]
  },
  {
   "cell_type": "markdown",
   "metadata": {},
   "source": [
    "So we already have several different algorithms and we can use them to build Stacking and Voting Classifiers trying to increase their performance"
   ]
  },
  {
   "cell_type": "markdown",
   "metadata": {},
   "source": [
    "## 5. Stacking"
   ]
  },
  {
   "cell_type": "markdown",
   "metadata": {},
   "source": [
    "Here we will use the outcomes of several already examined models as variables to predict the value of target column. The models are the following: Random Forest, Gradient Boosting, Neural network and XBG"
   ]
  },
  {
   "cell_type": "markdown",
   "metadata": {},
   "source": [
    "##### One model of each algorithm"
   ]
  },
  {
   "cell_type": "code",
   "execution_count": 62,
   "metadata": {},
   "outputs": [],
   "source": [
    "#Getting parameters from already trained and optimized models\n",
    "params_rfc=calibrator_rfc.get_params()\n",
    "params_nn=model_kc.get_params()\n",
    "params_xgb=model3.get_params()\n",
    "#Popping unnecessary parameters\n",
    "params_nn.pop('build_fn')\n",
    "params_xgb.pop('scale_pos_weight')\n",
    "#Models\n",
    "RandomForest=CalibratedClassifierCV().set_params(**params_rfc)\n",
    "GradientBoosting=CalibratedClassifierCV().set_params(**calibrator_gbc.get_params())\n",
    "NeuralNetwork=kc(build_fn=get_model).set_params(**params_nn)\n",
    "NeuralNetwork._estimator_type=\"classifier\"\n",
    "XGB=xgb.XGBClassifier().set_params(**params_xgb)"
   ]
  },
  {
   "cell_type": "markdown",
   "metadata": {},
   "source": [
    "##### Training Stacking Classifier"
   ]
  },
  {
   "cell_type": "code",
   "execution_count": 63,
   "metadata": {},
   "outputs": [
    {
     "name": "stderr",
     "output_type": "stream",
     "text": [
      "[Parallel(n_jobs=1)]: Using backend SequentialBackend with 1 concurrent workers.\n",
      "[Parallel(n_jobs=1)]: Done   3 out of   3 | elapsed:   11.5s finished\n",
      "[Parallel(n_jobs=1)]: Using backend SequentialBackend with 1 concurrent workers.\n",
      "[Parallel(n_jobs=1)]: Done   3 out of   3 | elapsed:   14.1s finished\n",
      "[Parallel(n_jobs=1)]: Using backend SequentialBackend with 1 concurrent workers.\n",
      "[Parallel(n_jobs=1)]: Done   3 out of   3 | elapsed:    8.7s finished\n",
      "[Parallel(n_jobs=1)]: Using backend SequentialBackend with 1 concurrent workers.\n",
      "[Parallel(n_jobs=1)]: Done   3 out of   3 | elapsed:   18.5s finished\n"
     ]
    },
    {
     "data": {
      "text/plain": [
       "StackingClassifier(cv=3,\n",
       "                   estimators=[('RandomForest',\n",
       "                                CalibratedClassifierCV(base_estimator=RandomForestClassifier(max_depth=14,\n",
       "                                                                                             min_samples_split=10,\n",
       "                                                                                             n_estimators=170,\n",
       "                                                                                             random_state=42),\n",
       "                                                       cv=2)),\n",
       "                               ('XGBoost',\n",
       "                                XGBClassifier(alpha=1, base_score=0.5,\n",
       "                                              booster='gbtree',\n",
       "                                              colsample_bylevel=1,\n",
       "                                              colsample_bynode=1,\n",
       "                                              colsample_bytree=0.1, gamma=0.05,\n",
       "                                              gpu_id=-1, importance_type=...\n",
       "                               ('NeuralNetwork',\n",
       "                                <tensorflow.python.keras.wrappers.scikit_learn.KerasClassifier object at 0x000001B8DA55AC10>),\n",
       "                               ('GradientBoosting',\n",
       "                                CalibratedClassifierCV(base_estimator=GradientBoostingClassifier(learning_rate=0.05,\n",
       "                                                                                                 max_depth=8,\n",
       "                                                                                                 min_samples_split=10,\n",
       "                                                                                                 n_estimators=60,\n",
       "                                                                                                 random_state=42),\n",
       "                                                       cv=2))],\n",
       "                   final_estimator=LogisticRegression(C=3e-05,\n",
       "                                                      random_state=12345),\n",
       "                   verbose=1)"
      ]
     },
     "execution_count": 63,
     "metadata": {},
     "output_type": "execute_result"
    }
   ],
   "source": [
    "from sklearn.ensemble import StackingClassifier\n",
    "from sklearn.linear_model import LogisticRegression\n",
    "estimators=[('RandomForest',RandomForest),('XGBoost',XGB),('NeuralNetwork',NeuralNetwork),('GradientBoosting',GradientBoosting)]\n",
    "model_stack=StackingClassifier(estimators=estimators,final_estimator=LogisticRegression(C=0.00003, random_state=12345),cv=3,verbose=1)\n",
    "model_stack.fit(balanced_data,balanced_target)"
   ]
  },
  {
   "cell_type": "markdown",
   "metadata": {},
   "source": [
    "##### Evaluation"
   ]
  },
  {
   "cell_type": "code",
   "execution_count": 64,
   "metadata": {},
   "outputs": [
    {
     "name": "stdout",
     "output_type": "stream",
     "text": [
      "AUC score:  0.8071973640916077\n"
     ]
    }
   ],
   "source": [
    "print('AUC score: ',roc_auc_score(y_test3,model_stack.predict_proba(x_test3)[:,1]))"
   ]
  },
  {
   "cell_type": "code",
   "execution_count": 65,
   "metadata": {},
   "outputs": [
    {
     "data": {
      "text/plain": [
       "array([[1392,  102],\n",
       "       [ 127,  170]], dtype=int64)"
      ]
     },
     "execution_count": 65,
     "metadata": {},
     "output_type": "execute_result"
    }
   ],
   "source": [
    "from sklearn.metrics import confusion_matrix\n",
    "confusion_matrix(y_test3,model_stack.predict(x_test3))"
   ]
  },
  {
   "cell_type": "code",
   "execution_count": 66,
   "metadata": {},
   "outputs": [
    {
     "data": {
      "text/plain": [
       "array([[1349,  145],\n",
       "       [ 113,  184]], dtype=int64)"
      ]
     },
     "execution_count": 66,
     "metadata": {},
     "output_type": "execute_result"
    }
   ],
   "source": [
    "from sklearn.metrics import confusion_matrix\n",
    "confusion_matrix(y_test3,model3.predict(x_test3))"
   ]
  },
  {
   "cell_type": "code",
   "execution_count": 67,
   "metadata": {},
   "outputs": [
    {
     "data": {
      "text/plain": [
       "Train_acc    0.879118\n",
       "Test_acc     0.872138\n",
       "dtype: float64"
      ]
     },
     "execution_count": 67,
     "metadata": {},
     "output_type": "execute_result"
    }
   ],
   "source": [
    "S([acc_score(y_train3,model_stack.predict(x_train3))]+[acc_score(y_test3,model_stack.predict(x_test3))],index=['Train_acc','Test_acc'])"
   ]
  },
  {
   "cell_type": "markdown",
   "metadata": {},
   "source": [
    "AUC score is slightly worse than in our best model(model3) but if we look at confusion_matrix or at accuracy, we can see that the result is even better here. Precision is far more better and recall is slightly worse. I would  pick this model instead of model3. But we should keep i mind the fact, that we usedd here only 4 models and that's obviously not a sufficient amount of predictors."
   ]
  },
  {
   "cell_type": "markdown",
   "metadata": {},
   "source": [
    "## 6. Voting"
   ]
  },
  {
   "cell_type": "markdown",
   "metadata": {},
   "source": [
    "##### Training Voting Classifier"
   ]
  },
  {
   "cell_type": "code",
   "execution_count": 68,
   "metadata": {},
   "outputs": [
    {
     "data": {
      "text/plain": [
       "VotingClassifier(estimators=[('RandomForest',\n",
       "                              CalibratedClassifierCV(base_estimator=RandomForestClassifier(max_depth=14,\n",
       "                                                                                           min_samples_split=10,\n",
       "                                                                                           n_estimators=170,\n",
       "                                                                                           random_state=42),\n",
       "                                                     cv=2)),\n",
       "                             ('XGBoost',\n",
       "                              XGBClassifier(alpha=1, base_score=0.5,\n",
       "                                            booster='gbtree',\n",
       "                                            colsample_bylevel=1,\n",
       "                                            colsample_bynode=1,\n",
       "                                            colsample_bytree=0.1, gamma=0.05,\n",
       "                                            gpu_id=-1, importance_type='gain',...\n",
       "                                            tree_method='exact',\n",
       "                                            validate_parameters=1,\n",
       "                                            verbosity=0)),\n",
       "                             ('NeuralNetwork',\n",
       "                              <tensorflow.python.keras.wrappers.scikit_learn.KerasClassifier object at 0x000001B8DA55AC10>),\n",
       "                             ('GradientBoosting',\n",
       "                              CalibratedClassifierCV(base_estimator=GradientBoostingClassifier(learning_rate=0.05,\n",
       "                                                                                               max_depth=8,\n",
       "                                                                                               min_samples_split=10,\n",
       "                                                                                               n_estimators=60,\n",
       "                                                                                               random_state=42),\n",
       "                                                     cv=2))],\n",
       "                 verbose=0, voting='soft')"
      ]
     },
     "execution_count": 68,
     "metadata": {},
     "output_type": "execute_result"
    }
   ],
   "source": [
    "from sklearn.ensemble import VotingClassifier\n",
    "model_vote=VotingClassifier(estimators=estimators,voting='soft',verbose=0)\n",
    "model_vote.fit(balanced_data,balanced_target)"
   ]
  },
  {
   "cell_type": "markdown",
   "metadata": {},
   "source": [
    "#### Evaluation"
   ]
  },
  {
   "cell_type": "code",
   "execution_count": 69,
   "metadata": {},
   "outputs": [
    {
     "name": "stdout",
     "output_type": "stream",
     "text": [
      "AUC score:  0.8074632987618261\n"
     ]
    }
   ],
   "source": [
    "print('AUC score: ',roc_auc_score(y_test3,model_vote.predict_proba(x_test3)[:,1]))"
   ]
  },
  {
   "cell_type": "code",
   "execution_count": 70,
   "metadata": {},
   "outputs": [
    {
     "data": {
      "text/plain": [
       "Train_acc    0.880932\n",
       "Test_acc     0.861530\n",
       "dtype: float64"
      ]
     },
     "execution_count": 70,
     "metadata": {},
     "output_type": "execute_result"
    }
   ],
   "source": [
    "S([acc_score(y_train3,model_vote.predict(x_train3))]+[acc_score(y_test3,model_vote.predict(x_test3))],index=['Train_acc','Test_acc'])"
   ]
  },
  {
   "cell_type": "code",
   "execution_count": 71,
   "metadata": {},
   "outputs": [
    {
     "data": {
      "text/plain": [
       "array([[1372,  122],\n",
       "       [ 126,  171]], dtype=int64)"
      ]
     },
     "execution_count": 71,
     "metadata": {},
     "output_type": "execute_result"
    }
   ],
   "source": [
    "from sklearn.metrics import confusion_matrix\n",
    "confusion_matrix(y_test3,model_vote.predict(x_test3))"
   ]
  },
  {
   "cell_type": "code",
   "execution_count": 72,
   "metadata": {},
   "outputs": [
    {
     "data": {
      "text/plain": [
       "array([[1392,  102],\n",
       "       [ 127,  170]], dtype=int64)"
      ]
     },
     "execution_count": 72,
     "metadata": {},
     "output_type": "execute_result"
    }
   ],
   "source": [
    "from sklearn.metrics import confusion_matrix\n",
    "confusion_matrix(y_test3,model_stack.predict(x_test3))"
   ]
  },
  {
   "cell_type": "markdown",
   "metadata": {},
   "source": [
    "As we can see Voting Classifier is wee bit worse than Stacking. But these 2 models are quite good and can be used, especially for this non-informative dataset"
   ]
  },
  {
   "cell_type": "markdown",
   "metadata": {},
   "source": [
    "## 7. Pipelines and Test-set"
   ]
  },
  {
   "cell_type": "markdown",
   "metadata": {},
   "source": [
    "##### Reading test data"
   ]
  },
  {
   "cell_type": "code",
   "execution_count": 73,
   "metadata": {},
   "outputs": [],
   "source": [
    "test=pd.read_csv('aug_test.csv',na_values='')"
   ]
  },
  {
   "cell_type": "markdown",
   "metadata": {},
   "source": [
    "##### Class for all the necessary preprocessing and suited for pipeline"
   ]
  },
  {
   "cell_type": "code",
   "execution_count": 74,
   "metadata": {},
   "outputs": [],
   "source": [
    "from sklearn.base import BaseEstimator, TransformerMixin\n",
    "class Preprocessing(BaseEstimator, TransformerMixin):\n",
    "    def __init__(self):\n",
    "        pass\n",
    "    def fit(self,test):\n",
    "        train=pd.read_csv('aug_train.csv',na_values='')\n",
    "        train=train.dropna()\n",
    "        train.experience=pd.cut(train.experience.replace({'>20':21,'<1':0}).astype('float64'),[0,1,5,10,20,np.inf],right=False)\n",
    "        train['last_new_job']=pd.cut(train['last_new_job'].replace({'never':0,'>4':5}).astype('float64'),[0,1,4,np.inf],right=False)\n",
    "        test=test.dropna()\n",
    "        test_size=test.shape[0]\n",
    "        test.experience=pd.cut(test.experience.replace({'>20':21,'<1':0}).astype('float64'),[0,1,5,10,20,np.inf],right=False)\n",
    "        test['last_new_job']=pd.cut(test['last_new_job'].replace({'never':0,'>4':5}).astype('float64'),[0,1,4,np.inf],right=False)\n",
    "        entire_data=pd.concat([train,test],axis=0,ignore_index=True)\n",
    "        entire_data=pd.get_dummies(entire_data).loc[:,new_columns]\n",
    "        self.entire_data=entire_data\n",
    "        self.test_size=test_size\n",
    "        return self\n",
    "    def transform(self,test):\n",
    "        test_data=self.entire_data.iloc[-self.test_size:,:]\n",
    "        return test_data"
   ]
  },
  {
   "cell_type": "markdown",
   "metadata": {},
   "source": [
    "##### Pipeline"
   ]
  },
  {
   "cell_type": "code",
   "execution_count": 75,
   "metadata": {},
   "outputs": [],
   "source": [
    "from sklearn.pipeline import Pipeline\n",
    "pipe=Pipeline([('Preprocessing',Preprocessing()),('Std',StandardScaler())])\n",
    "preprocessed_test_data=pipe.fit(test).transform(test)"
   ]
  },
  {
   "cell_type": "markdown",
   "metadata": {},
   "source": [
    "##### Predicted values with our best model"
   ]
  },
  {
   "cell_type": "code",
   "execution_count": 76,
   "metadata": {},
   "outputs": [
    {
     "data": {
      "text/plain": [
       "0       0.0\n",
       "1       0.0\n",
       "2       0.0\n",
       "3       0.0\n",
       "4       1.0\n",
       "       ... \n",
       "1014    0.0\n",
       "1015    1.0\n",
       "1016    0.0\n",
       "1017    0.0\n",
       "1018    0.0\n",
       "Length: 1019, dtype: float64"
      ]
     },
     "execution_count": 76,
     "metadata": {},
     "output_type": "execute_result"
    }
   ],
   "source": [
    "S(model_stack.predict(preprocessed_test_data))"
   ]
  },
  {
   "cell_type": "markdown",
   "metadata": {},
   "source": [
    "## 8. Summary"
   ]
  },
  {
   "cell_type": "code",
   "execution_count": 77,
   "metadata": {},
   "outputs": [
    {
     "name": "stderr",
     "output_type": "stream",
     "text": [
      "[Parallel(n_jobs=1)]: Using backend SequentialBackend with 1 concurrent workers.\n",
      "[Parallel(n_jobs=1)]: Done   3 out of   3 | elapsed:   10.9s finished\n",
      "[Parallel(n_jobs=1)]: Using backend SequentialBackend with 1 concurrent workers.\n",
      "[Parallel(n_jobs=1)]: Done   3 out of   3 | elapsed:   13.5s finished\n",
      "[Parallel(n_jobs=1)]: Using backend SequentialBackend with 1 concurrent workers.\n",
      "[Parallel(n_jobs=1)]: Done   3 out of   3 | elapsed:    8.4s finished\n",
      "[Parallel(n_jobs=1)]: Using backend SequentialBackend with 1 concurrent workers.\n",
      "[Parallel(n_jobs=1)]: Done   3 out of   3 | elapsed:   17.6s finished\n"
     ]
    }
   ],
   "source": [
    "metrics={}\n",
    "all_models=estimators+[('Stacking',model_stack),('Voting',model_vote)]\n",
    "for model_name, model in all_models:\n",
    "    model.fit(balanced_data,balanced_target)\n",
    "    metrics[model_name]=[acc_score(y_train3,model.predict(x_train3))]+[acc_score(y_test3,model.predict(x_test3))]+[roc_auc_score(y_test3,model.predict_proba(x_test3)[:,1])]"
   ]
  },
  {
   "cell_type": "code",
   "execution_count": 78,
   "metadata": {},
   "outputs": [
    {
     "data": {
      "text/html": [
       "<div>\n",
       "<style scoped>\n",
       "    .dataframe tbody tr th:only-of-type {\n",
       "        vertical-align: middle;\n",
       "    }\n",
       "\n",
       "    .dataframe tbody tr th {\n",
       "        vertical-align: top;\n",
       "    }\n",
       "\n",
       "    .dataframe thead th {\n",
       "        text-align: right;\n",
       "    }\n",
       "</style>\n",
       "<table border=\"1\" class=\"dataframe\">\n",
       "  <thead>\n",
       "    <tr style=\"text-align: right;\">\n",
       "      <th></th>\n",
       "      <th>Train accuracy</th>\n",
       "      <th>Test accuracy</th>\n",
       "      <th>AUC score</th>\n",
       "    </tr>\n",
       "  </thead>\n",
       "  <tbody>\n",
       "    <tr>\n",
       "      <th>RandomForest</th>\n",
       "      <td>0.879397</td>\n",
       "      <td>0.862088</td>\n",
       "      <td>0.795701</td>\n",
       "    </tr>\n",
       "    <tr>\n",
       "      <th>XGBoost</th>\n",
       "      <td>0.882607</td>\n",
       "      <td>0.855946</td>\n",
       "      <td>0.811213</td>\n",
       "    </tr>\n",
       "    <tr>\n",
       "      <th>NeuralNetwork</th>\n",
       "      <td>0.852317</td>\n",
       "      <td>0.858180</td>\n",
       "      <td>0.796666</td>\n",
       "    </tr>\n",
       "    <tr>\n",
       "      <th>GradientBoosting</th>\n",
       "      <td>0.884283</td>\n",
       "      <td>0.850921</td>\n",
       "      <td>0.792734</td>\n",
       "    </tr>\n",
       "    <tr>\n",
       "      <th>Stacking</th>\n",
       "      <td>0.879118</td>\n",
       "      <td>0.872138</td>\n",
       "      <td>0.807197</td>\n",
       "    </tr>\n",
       "    <tr>\n",
       "      <th>Voting</th>\n",
       "      <td>0.880932</td>\n",
       "      <td>0.861530</td>\n",
       "      <td>0.807463</td>\n",
       "    </tr>\n",
       "  </tbody>\n",
       "</table>\n",
       "</div>"
      ],
      "text/plain": [
       "                  Train accuracy  Test accuracy  AUC score\n",
       "RandomForest            0.879397       0.862088   0.795701\n",
       "XGBoost                 0.882607       0.855946   0.811213\n",
       "NeuralNetwork           0.852317       0.858180   0.796666\n",
       "GradientBoosting        0.884283       0.850921   0.792734\n",
       "Stacking                0.879118       0.872138   0.807197\n",
       "Voting                  0.880932       0.861530   0.807463"
      ]
     },
     "execution_count": 78,
     "metadata": {},
     "output_type": "execute_result"
    }
   ],
   "source": [
    "metrics_df=D(metrics,index=['Train accuracy','Test accuracy','AUC score']).T\n",
    "metrics_df"
   ]
  },
  {
   "cell_type": "code",
   "execution_count": null,
   "metadata": {},
   "outputs": [],
   "source": []
  }
 ],
 "metadata": {
  "kernelspec": {
   "display_name": "Python 3",
   "language": "python",
   "name": "python3"
  },
  "language_info": {
   "codemirror_mode": {
    "name": "ipython",
    "version": 3
   },
   "file_extension": ".py",
   "mimetype": "text/x-python",
   "name": "python",
   "nbconvert_exporter": "python",
   "pygments_lexer": "ipython3",
   "version": "3.8.5"
  }
 },
 "nbformat": 4,
 "nbformat_minor": 4
}
